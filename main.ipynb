{
 "cells": [
  {
   "cell_type": "code",
   "execution_count": null,
   "metadata": {
    "collapsed": true
   },
   "outputs": [],
   "source": [
    "import re\n",
    "from typing import Dict, List, Set\n",
    "from typing import OrderedDict as OrderedDictType\n",
    "from collections import OrderedDict\n",
    "from dataclasses import dataclass"
   ]
  },
  {
   "cell_type": "code",
   "execution_count": null,
   "outputs": [],
   "source": [
    "@dataclass\n",
    "class Production:\n",
    "    \"\"\"\n",
    "    产生式规则\n",
    "    \"\"\"\n",
    "    left: str\n",
    "    right: List[str]\n",
    "\n",
    "    def __str__(self):\n",
    "        return f\"{self.left} -> {' '.join(self.right)}\"\n",
    "\n",
    "    def __repr__(self):\n",
    "        return str(self)\n",
    "\n",
    "    def __hash__(self):\n",
    "        return hash(str(self))"
   ],
   "metadata": {
    "collapsed": false
   }
  },
  {
   "cell_type": "code",
   "execution_count": null,
   "outputs": [],
   "source": [
    "class Grammar:\n",
    "    \"\"\"\n",
    "    文法\n",
    "    \"\"\"\n",
    "\n",
    "    def __init__(self, productions: Set[Production], start_symbol: str):\n",
    "        self.productions: Set[Production] = productions  # P\n",
    "        self.terminals: Set[str] = set()  # V_T\n",
    "        self.non_terminals: Set[str] = set()  # V_N\n",
    "        self.start_symbol: str = start_symbol  # S\n",
    "\n",
    "        self._compute_non_terminals()\n",
    "        self._compute_terminals()\n",
    "\n",
    "    def _compute_non_terminals(self):\n",
    "        \"\"\"\n",
    "        计算非终结符集合\n",
    "        \"\"\"\n",
    "        for production in self.productions:\n",
    "            self.non_terminals.add(production.left)\n",
    "\n",
    "    def _compute_terminals(self):\n",
    "        \"\"\"\n",
    "        计算终结符集合\n",
    "        \"\"\"\n",
    "        if len(self.non_terminals) == 0:\n",
    "            self._compute_non_terminals()\n",
    "        for production in self.productions:\n",
    "            for symbol in production.right:\n",
    "                if symbol not in self.non_terminals:\n",
    "                    self.terminals.add(symbol)\n",
    "\n",
    "    def __str__(self):\n",
    "        return f\"\"\"\n",
    "Start Symbol: {self.start_symbol}\n",
    "Terminals: {self.terminals}\n",
    "Non-terminals: {self.non_terminals}\n",
    "Productions:\n",
    "\"\"\" + \"\\n\".join([str(p) for p in self.productions])\n",
    "\n",
    "    def __repr__(self):\n",
    "        return str(self)\n",
    "\n",
    "    def __hash__(self):\n",
    "        return hash(str(self))"
   ],
   "metadata": {
    "collapsed": false
   }
  },
  {
   "cell_type": "code",
   "execution_count": null,
   "outputs": [],
   "source": [
    "FIRST: Dict[str, Set[str]] = {}  # first sets\n",
    "FOLLOW: Dict[str, Set[str]] = {}  # follow sets\n",
    "SELECT: Dict[Production, Set[str]] = {}  # select sets"
   ],
   "metadata": {
    "collapsed": false
   }
  },
  {
   "cell_type": "code",
   "execution_count": null,
   "outputs": [],
   "source": [
    "production_regex = re.compile(r'(?P<left>\\w+) -> (?P<right>.+)')"
   ],
   "metadata": {
    "collapsed": false
   }
  },
  {
   "cell_type": "code",
   "execution_count": null,
   "outputs": [],
   "source": [
    "with open(\"grammar.txt\", \"r\") as f:\n",
    "    productions: Set[Production] = set()\n",
    "    lines = f.readlines()\n",
    "    for line in lines:\n",
    "        line = line.strip()  # remove trailing whitespace\n",
    "        if line == \"\":\n",
    "            continue\n",
    "        match = production_regex.match(line)\n",
    "        if match is None:\n",
    "            raise Exception(f\"Invalid production: {line}\")\n",
    "        left = match.group(\"left\")\n",
    "        right = match.group(\"right\").split(\" \")\n",
    "        productions.add(Production(left, right))"
   ],
   "metadata": {
    "collapsed": false
   }
  },
  {
   "cell_type": "code",
   "execution_count": null,
   "outputs": [],
   "source": [
    "print(\"\\n\".join(str(p) for p in productions))"
   ],
   "metadata": {
    "collapsed": false
   }
  },
  {
   "cell_type": "code",
   "execution_count": null,
   "outputs": [],
   "source": [
    "grammar = Grammar(productions=productions,\n",
    "                  start_symbol=\"program\")"
   ],
   "metadata": {
    "collapsed": false
   }
  },
  {
   "cell_type": "code",
   "execution_count": null,
   "outputs": [],
   "source": [
    "print(grammar)"
   ],
   "metadata": {
    "collapsed": false
   }
  },
  {
   "cell_type": "code",
   "execution_count": null,
   "outputs": [],
   "source": [
    "def eliminate_left_recursion(grammar: Grammar) -> Grammar:\n",
    "    \"\"\"\n",
    "    消除左递归：\n",
    "        1. 带入生成式，产生 mid_productions_p_i\n",
    "        2. 消除 mid_productions_p_i 的直接左递归，产生无左递归的 new_productions_p_i\n",
    "    Args:\n",
    "        grammar:\n",
    "\n",
    "    Returns:\n",
    "\n",
    "    \"\"\"\n",
    "    productions = list(grammar.productions)\n",
    "    terminals = list(grammar.terminals)\n",
    "    non_terminals = list(grammar.non_terminals)\n",
    "    new_productions: List[Production] = []\n",
    "\n",
    "    def get_right_symbols(productions: List[Production]) -> Set[str]:\n",
    "        \"\"\"\n",
    "        Get symbols that appeared on the right hand side of a production\n",
    "        Args:\n",
    "            productions:\n",
    "\n",
    "        Returns:\n",
    "\n",
    "        \"\"\"\n",
    "        right_symbol_set = set()\n",
    "        for p in productions:\n",
    "            for sym in p.right:\n",
    "                right_symbol_set.add(sym)\n",
    "        return right_symbol_set\n",
    "\n",
    "    # create a dictionary for easy access, i.e. [A -> B,..., A -> C, A -> D] => A: A -> B | C | D, B: B->...\n",
    "    productions_by_key: OrderedDictType[str, List[Production]] = OrderedDict()  # A -> alpha_1 | ... | alpha_n\n",
    "    for production in productions:\n",
    "        if production.left not in productions_by_key:\n",
    "            productions_by_key[production.left] = []\n",
    "        productions_by_key[production.left].append(production)\n",
    "\n",
    "    # indirect left recursion\n",
    "    for i in range(len(non_terminals)):\n",
    "        P_i = non_terminals[i]\n",
    "\n",
    "        prev_productions_p_i = productions_by_key[P_i]\n",
    "        # intermediate productions, (not recursion free). Those start with terminals is not changed\n",
    "        mid_productions_p_i: List[Production] = [p for p in prev_productions_p_i if p.right[0] in terminals]\n",
    "        # those with terminals after P_i is not changed\n",
    "        mid_productions_p_i.extend([p for p in prev_productions_p_i if p.right[0] in non_terminals[i:]])\n",
    "\n",
    "        for j in range(i):\n",
    "            P_j = non_terminals[j]\n",
    "\n",
    "            # find all right hand side symbols of P_i\n",
    "            P_i_right_symbol_set = get_right_symbols(productions_by_key[P_i])\n",
    "\n",
    "            if P_j not in P_i_right_symbol_set:  # P_i -> P_j gamma not exists\n",
    "                continue\n",
    "\n",
    "            # P_i -> P_j gamma exists,\n",
    "            # change P_i -> P_j gamma to P_i -> delta_1 gamma | delta_2 gamma | ... | delta_n gamma\n",
    "            # where P_j -> delta_1 | delta_2 | ... | delta_n\n",
    "            productions_p_j = productions_by_key[P_j]\n",
    "            for production_p_i in prev_productions_p_i:  # for each in P_i -> alpha_1 | alpha_2 | ... | alpha_n\n",
    "                if production_p_i.right[0] == P_j:  # if production_p_i: P_i -> P_j gamma\n",
    "                    gamma = production_p_i.right[1:]\n",
    "                    for production_p_j in productions_p_j:  # for each in P_j -> delta_1 | ... | delta_n\n",
    "                        delta = production_p_j.right\n",
    "                        mid_production_p_i = Production(\n",
    "                            left=P_i,\n",
    "                            right=delta + gamma\n",
    "                        )  # P_i -> delta gamma\n",
    "                        mid_productions_p_i.append(mid_production_p_i)\n",
    "\n",
    "                else:  # production_p_i: P_i -> beta\n",
    "                    mid_productions_p_i.append(production_p_i)\n",
    "\n",
    "            productions_by_key[P_i] = mid_productions_p_i  # TODO check\n",
    "            prev_productions_p_i = productions_by_key[P_i]\n",
    "\n",
    "            # store intermediate productions. Those start with terminals is not changed\n",
    "            mid_productions_p_i: List[Production] = [p for p in prev_productions_p_i if p.right[0] in terminals]\n",
    "            # those with terminals after P_i is not changed\n",
    "            mid_productions_p_i.extend([p for p in prev_productions_p_i if p.right[0] in non_terminals[i:]])\n",
    "\n",
    "        # end of for j in range(i)\n",
    "\n",
    "        # attempt to eliminate direct left recursion for P_i\n",
    "        new_productions_p_i: List[Production] = []  # stores left-recursion-free productions for P_i\n",
    "        new_productions_p_i_: List[Production] = []  # P_i' for left recursion elimination\n",
    "\n",
    "        # test if P_i has left recursion\n",
    "        has_left_recursion: bool = False\n",
    "        for production_p_i in mid_productions_p_i:\n",
    "            if production_p_i.right[0] == P_i:  # production_p_i: P_i -> P_i gamma\n",
    "                has_left_recursion = True\n",
    "                break\n",
    "\n",
    "        if not has_left_recursion:\n",
    "            new_productions_p_i = mid_productions_p_i\n",
    "        else:\n",
    "            # eliminate direct left recursion for P_i\n",
    "            for production_p_i in mid_productions_p_i:\n",
    "                if production_p_i.right[0] == P_i:  # production_p_i: P_i -> P_i gamma\n",
    "                    gamma = production_p_i.right[1:]\n",
    "\n",
    "                    # P_i' -> epsilon | gamma P_i'\n",
    "                    new_production_p_i_ = Production(\n",
    "                        left=P_i + \"'\",\n",
    "                        right=gamma + [P_i + \"'\"]\n",
    "                    )  # P_i' -> gamma P_i'\n",
    "                    new_productions_p_i_.append(new_production_p_i_)\n",
    "                else:  # production_p_i: P_i -> beta, no left recursion for current production\n",
    "                    new_production_p_i = Production(\n",
    "                        left=P_i,\n",
    "                        right=production_p_i.right + [P_i + \"'\"]\n",
    "                    )  # P_i -> beta P_i'\n",
    "                    new_productions_p_i.append(new_production_p_i)\n",
    "\n",
    "            # add P_i' -> epsilon\n",
    "            new_productions_p_i_.append(Production(\n",
    "                left=P_i + \"'\",\n",
    "                right=[\"$\"]\n",
    "            ))  # P_i' -> epsilon\n",
    "\n",
    "            productions_by_key[P_i + \"'\"] = new_productions_p_i_\n",
    "\n",
    "        productions_by_key[P_i] = new_productions_p_i\n",
    "    # end of for i in range(len(non_terminals))\n",
    "\n",
    "    for k, v in productions_by_key.items():\n",
    "        new_productions.extend(v)\n",
    "\n",
    "    return Grammar(\n",
    "        productions=set(new_productions),\n",
    "        start_symbol=grammar.start_symbol\n",
    "    )"
   ],
   "metadata": {
    "collapsed": false
   }
  },
  {
   "cell_type": "code",
   "execution_count": null,
   "outputs": [],
   "source": [
    "with open(\"grammar_recursion.txt\", \"r\") as f:\n",
    "    productions: Set[Production] = set()\n",
    "    lines = f.readlines()\n",
    "    for line in lines:\n",
    "        line = line.strip()  # remove trailing whitespace\n",
    "        if line == \"\":\n",
    "            continue\n",
    "        match = production_regex.match(line)\n",
    "        if match is None:\n",
    "            raise Exception(f\"Invalid production: {line}\")\n",
    "        left = match.group(\"left\")\n",
    "        right = match.group(\"right\").split(\" \")\n",
    "        productions.add(Production(left, right))\n",
    "\n",
    "old_grammar = Grammar(\n",
    "    productions=productions,\n",
    "    start_symbol=\"R\"\n",
    ")"
   ],
   "metadata": {
    "collapsed": false
   }
  },
  {
   "cell_type": "code",
   "execution_count": null,
   "outputs": [],
   "source": [
    "old_grammar"
   ],
   "metadata": {
    "collapsed": false
   }
  },
  {
   "cell_type": "code",
   "execution_count": null,
   "outputs": [],
   "source": [
    "new_grammar = eliminate_left_recursion(old_grammar)"
   ],
   "metadata": {
    "collapsed": false
   }
  },
  {
   "cell_type": "code",
   "execution_count": null,
   "outputs": [],
   "source": [
    "sorted(list(new_grammar.productions), key=lambda x: x.left)"
   ],
   "metadata": {
    "collapsed": false
   }
  },
  {
   "cell_type": "code",
   "execution_count": null,
   "outputs": [],
   "source": [],
   "metadata": {
    "collapsed": false
   }
  },
  {
   "cell_type": "code",
   "execution_count": null,
   "outputs": [],
   "source": [],
   "metadata": {
    "collapsed": false
   }
  }
 ],
 "metadata": {
  "kernelspec": {
   "display_name": "Python 3",
   "language": "python",
   "name": "python3"
  },
  "language_info": {
   "codemirror_mode": {
    "name": "ipython",
    "version": 2
   },
   "file_extension": ".py",
   "mimetype": "text/x-python",
   "name": "python",
   "nbconvert_exporter": "python",
   "pygments_lexer": "ipython2",
   "version": "2.7.6"
  }
 },
 "nbformat": 4,
 "nbformat_minor": 0
}
